{
 "cells": [
  {
   "cell_type": "markdown",
   "metadata": {},
   "source": [
    "# Tipos de de datos en Python\n",
    "\n",
    "* **Número**\n",
    "    * **Int** (entero), `3`, `598`, `1655`\n",
    "    * **Flot** (de punto flotante), `1.5`, `2.0`\n",
    "    * **Complex** (complejo), `1 + j`, `29 + 56j`\n",
    "* **String** (cadenas de texto), `'hola'`, `\"A\"`\n",
    "* **Bool**, `True`, `False`"
   ]
  },
  {
   "cell_type": "markdown",
   "metadata": {},
   "source": [
    "Python es un lenguaje de **tipado dinámico**, es decir que no es necesario definir el tipo de dato sino que el intérprete setea el tipo de dato, por lo que hay que prestar atención a la forma en la que se definen."
   ]
  },
  {
   "cell_type": "markdown",
   "metadata": {},
   "source": [
    "## Números\n",
    "\n",
    "### Int"
   ]
  },
  {
   "cell_type": "code",
   "execution_count": null,
   "metadata": {},
   "outputs": [],
   "source": [
    "type(3), type(1655)"
   ]
  },
  {
   "cell_type": "markdown",
   "metadata": {},
   "source": [
    "### Float"
   ]
  },
  {
   "cell_type": "code",
   "execution_count": null,
   "metadata": {},
   "outputs": [],
   "source": [
    "type(.5), type(2.0)"
   ]
  },
  {
   "cell_type": "markdown",
   "metadata": {},
   "source": [
    "### Complex"
   ]
  },
  {
   "cell_type": "code",
   "execution_count": null,
   "metadata": {},
   "outputs": [],
   "source": [
    "type(-1+2j)"
   ]
  },
  {
   "cell_type": "markdown",
   "metadata": {},
   "source": [
    "## String\n",
    "\n",
    "Un string es una secuencia de caracteres, pueden ser letras, palabras, espacios, saltos de línea, símbolos. Python 3 emplea como estandar `unicode`.\n",
    "\n",
    "### ¿Cómo definir un string?\n",
    "\n",
    "**¡CON COMILLAS!** Es la forma de indicarle al intérprete de Python que se desea definir un string. Pueden ser comillas simples o dobles, la triple comilla permite texto multilínea."
   ]
  },
  {
   "cell_type": "code",
   "execution_count": null,
   "metadata": {},
   "outputs": [],
   "source": [
    "mi_primer_string = 'Esto es un string'"
   ]
  },
  {
   "cell_type": "code",
   "execution_count": null,
   "metadata": {},
   "outputs": [],
   "source": [
    "print(mi_primer_string)"
   ]
  },
  {
   "cell_type": "code",
   "execution_count": null,
   "metadata": {},
   "outputs": [],
   "source": [
    "type(mi_primer_string)"
   ]
  },
  {
   "cell_type": "code",
   "execution_count": null,
   "metadata": {},
   "outputs": [],
   "source": [
    "una_enie = 'Ñ'\n",
    "print(una_enie)\n",
    "type(una_enie)"
   ]
  },
  {
   "cell_type": "code",
   "execution_count": null,
   "metadata": {},
   "outputs": [],
   "source": [
    "simbolos_chinos = \"字漢字\"\n",
    "print(simbolos_chinos)\n",
    "type(simbolos_chinos)"
   ]
  },
  {
   "cell_type": "code",
   "execution_count": null,
   "metadata": {},
   "outputs": [],
   "source": [
    "frase_antonio = \"\"\"¿Sabés lo que tenían para comer? \n",
    "¡Tres empanadas!\"\"\"\n",
    "print(frase_antonio)\n",
    "type(frase_antonio)"
   ]
  },
  {
   "cell_type": "code",
   "execution_count": null,
   "metadata": {},
   "outputs": [],
   "source": [
    "frase_antonio = \"\"\"¿Sabés lo que tenían para comer?\\n¡Tres empanadas!\"\"\"\n",
    "print(frase_antonio)\n",
    "type(frase_antonio)"
   ]
  },
  {
   "cell_type": "code",
   "execution_count": null,
   "metadata": {},
   "outputs": [],
   "source": [
    "string_o_float = '3.1416'"
   ]
  },
  {
   "cell_type": "markdown",
   "metadata": {},
   "source": [
    "![](https://media1.tenor.com/images/2acd46917cbfeca0d71d1fd0899f992f/tenor.gif?itemid=4502079)"
   ]
  },
  {
   "cell_type": "markdown",
   "metadata": {},
   "source": [
    "Para convertir un tipo de dato a `str` (siempre que sea posible), se emplea la función `str(objeto)`"
   ]
  },
  {
   "cell_type": "code",
   "execution_count": null,
   "metadata": {},
   "outputs": [],
   "source": [
    "tres_patitos = 222\n",
    "print(type(tres_patitos))\n",
    "tres_patitos_str = str(tres_patitos)\n",
    "type(tres_patitos_str)"
   ]
  },
  {
   "cell_type": "markdown",
   "metadata": {},
   "source": [
    "### El objeto str\n",
    "\n",
    "Algunos **métodos** del objeto string:\n",
    "\n",
    "* Pasar a mayúsculas: `nombre_string.upper()`\n",
    "* Pasar a minúscula: `nombre_string.lower()`\n",
    "* Capitalizar: `nombre_string.capitalize()`\n",
    "* Contar frecuencia de caracter: `nombre_string.count('caracter')`"
   ]
  },
  {
   "cell_type": "code",
   "execution_count": null,
   "metadata": {},
   "outputs": [],
   "source": [
    "palabra = 'veo'"
   ]
  },
  {
   "cell_type": "code",
   "execution_count": null,
   "metadata": {},
   "outputs": [],
   "source": [
    "palabra.upper()"
   ]
  },
  {
   "cell_type": "code",
   "execution_count": null,
   "metadata": {},
   "outputs": [],
   "source": [
    "palabra.capitalize()"
   ]
  },
  {
   "cell_type": "code",
   "execution_count": null,
   "metadata": {},
   "outputs": [],
   "source": [
    "palabra.count('a')"
   ]
  },
  {
   "cell_type": "code",
   "execution_count": null,
   "metadata": {},
   "outputs": [],
   "source": [
    "palabra.count('v')"
   ]
  },
  {
   "cell_type": "markdown",
   "metadata": {},
   "source": [
    "`Alt + Tab` es un amigo"
   ]
  },
  {
   "cell_type": "code",
   "execution_count": null,
   "metadata": {},
   "outputs": [],
   "source": [
    "palabra."
   ]
  },
  {
   "cell_type": "markdown",
   "metadata": {},
   "source": [
    "### Operaciones con strings\n",
    "\n",
    "Python permite usar operadores con tipos de datos strings, de manera similar a los tipos de datos numéricos."
   ]
  },
  {
   "cell_type": "code",
   "execution_count": null,
   "metadata": {},
   "outputs": [],
   "source": [
    "'palabra' * 2"
   ]
  },
  {
   "cell_type": "code",
   "execution_count": null,
   "metadata": {},
   "outputs": [],
   "source": [
    "palabra * 2"
   ]
  },
  {
   "cell_type": "code",
   "execution_count": null,
   "metadata": {},
   "outputs": [],
   "source": [
    "otra_palabra = '¿qué ves?'\n",
    "palabra * 2 + ' ' + otra_palabra"
   ]
  },
  {
   "cell_type": "code",
   "execution_count": null,
   "metadata": {},
   "outputs": [],
   "source": [
    "palabra / 2"
   ]
  },
  {
   "cell_type": "code",
   "execution_count": null,
   "metadata": {},
   "outputs": [],
   "source": [
    "palabra ** 2"
   ]
  },
  {
   "cell_type": "markdown",
   "metadata": {},
   "source": [
    "### Split\n",
    "\n",
    "Se trata de un *método* de los objetos del tipo `str` que permite **separar** un string, según un determinado criterio.\n",
    "\n",
    "Su sintaxis es `nombre_string.split('string de separación')`"
   ]
  },
  {
   "cell_type": "code",
   "execution_count": null,
   "metadata": {},
   "outputs": [],
   "source": [
    "texto_a_splitear = 'hola mundo desde Python'\n",
    "texto_a_splitear.split(' ')"
   ]
  },
  {
   "cell_type": "code",
   "execution_count": null,
   "metadata": {},
   "outputs": [],
   "source": [
    "ingredientes_guiso = 'tomate, cebolla, pimiento, carne, papa, batata, chorizo colorado, lentejas'"
   ]
  },
  {
   "cell_type": "code",
   "execution_count": null,
   "metadata": {},
   "outputs": [],
   "source": [
    "ingredientes_guiso.split(',')"
   ]
  },
  {
   "cell_type": "markdown",
   "metadata": {},
   "source": [
    "¿Qué cosa extraña devolelve el split?"
   ]
  },
  {
   "cell_type": "markdown",
   "metadata": {},
   "source": [
    "### Join\n",
    "\n",
    "Join es el método *opuesto* a split, a partir de un conjunto de strings separados, genera un objeto compuesto por todos ellos.\n",
    "\n",
    "Su sintaxis es: `\"string de unión\".join(['string1', 'string2'])`"
   ]
  },
  {
   "cell_type": "code",
   "execution_count": null,
   "metadata": {},
   "outputs": [],
   "source": [
    "lista_de_palabras = ['¡Con',\n",
    "                     '10',\n",
    "                     '\"pé\"',\n",
    "                     'me', \n",
    "                     'hago',\n",
    "                     'alto',\n",
    "                     'guiso!']"
   ]
  },
  {
   "cell_type": "code",
   "execution_count": null,
   "metadata": {},
   "outputs": [],
   "source": [
    "' '.join(lista_de_palabras)"
   ]
  },
  {
   "cell_type": "markdown",
   "metadata": {},
   "source": [
    "### Indexado\n",
    "\n",
    "Los strings son secuencias, o sea conjuntos ordenados que se pueden indexar, recortar, reordenar, etc.\n",
    "\n",
    "Para el siguiente string:\n",
    "\n",
    "![](https://raw.githubusercontent.com/mgaitan/curso-python-cientifico/e0567d7ba49f0deb167fe71b80b404d95d7afb6e/img/index_slicing.png)"
   ]
  },
  {
   "cell_type": "code",
   "execution_count": null,
   "metadata": {},
   "outputs": [],
   "source": [
    "string_a_indexar = 'HOLA MUNDO'"
   ]
  },
  {
   "cell_type": "markdown",
   "metadata": {},
   "source": [
    "*NOTA 0*: En Python se comienza a contar desde cero y no desde uno."
   ]
  },
  {
   "cell_type": "code",
   "execution_count": null,
   "metadata": {},
   "outputs": [],
   "source": [
    "string_a_indexar[0]"
   ]
  },
  {
   "cell_type": "code",
   "execution_count": null,
   "metadata": {},
   "outputs": [],
   "source": [
    "string_a_indexar[0:4]"
   ]
  },
  {
   "cell_type": "code",
   "execution_count": null,
   "metadata": {},
   "outputs": [],
   "source": [
    "len(string_a_indexar)"
   ]
  },
  {
   "cell_type": "code",
   "execution_count": null,
   "metadata": {},
   "outputs": [],
   "source": [
    "string_a_indexar[0:10]"
   ]
  },
  {
   "cell_type": "code",
   "execution_count": null,
   "metadata": {},
   "outputs": [],
   "source": [
    "string_a_indexar[-1]"
   ]
  },
  {
   "cell_type": "code",
   "execution_count": null,
   "metadata": {},
   "outputs": [],
   "source": [
    "string_a_indexar[::-1]"
   ]
  },
  {
   "cell_type": "markdown",
   "metadata": {},
   "source": [
    "![](https://media.tenor.com/images/24a81c6b4a59269350112f76a4744acd/tenor.gif)"
   ]
  },
  {
   "cell_type": "markdown",
   "metadata": {},
   "source": [
    "Los strings son **inmutables**, es decir que, una vez definida la secuencia, no es posible modificarla."
   ]
  },
  {
   "cell_type": "code",
   "execution_count": null,
   "metadata": {},
   "outputs": [],
   "source": [
    "string_a_indexar[0] = 'A'"
   ]
  },
  {
   "cell_type": "code",
   "execution_count": null,
   "metadata": {},
   "outputs": [],
   "source": [
    "'ALÓ' + string_a_indexar[4:]"
   ]
  },
  {
   "cell_type": "code",
   "execution_count": null,
   "metadata": {},
   "outputs": [],
   "source": [
    "string_a_indexar = string_a_indexar.replace('HOLA', 'ALÓ')\n",
    "print(string_a_indexar)"
   ]
  },
  {
   "cell_type": "code",
   "execution_count": null,
   "metadata": {},
   "outputs": [],
   "source": [
    "palabra_dificil = 'otorrinonaringologo'\n",
    "frecuencia_o = palabra_dificil.count('o')\n",
    "print('La \"o\" aparece ' + str(frecuencia_o) + ' veces')"
   ]
  },
  {
   "cell_type": "code",
   "execution_count": null,
   "metadata": {},
   "outputs": [],
   "source": [
    "palabra_dificil = palabra_dificil.replace('o', 'i')\n",
    "palabra_dificil = palabra_dificil.upper()\n",
    "print(palabra_dificil)"
   ]
  },
  {
   "cell_type": "markdown",
   "metadata": {},
   "source": [
    "**EJEMPLO 0**: A partir de los *palíndromos*:\n",
    "\n",
    "> *\"Acaso hubo buhos acá\"*\n",
    "\n",
    "> *\"Amargor pleno con el programa\"*\n",
    "\n",
    "de Juan Filloy, corroborar que cumple con la característica de un palíndromo, eliminar los espacios, dividir la palabra a la mitad, invertir los dos string resultantes, unirlos e imprimir el original y el modificado para poder leerlos en voz alta."
   ]
  },
  {
   "cell_type": "markdown",
   "metadata": {},
   "source": [
    "**RESOLUCIÓN**: \n",
    "\n",
    "* Se separan los vocablos de los espacios con la función `split()`.\n",
    "* Se los concatena con la funcipon `.join()`.\n",
    "* Se imprime la longitud del string resultante con `len()`.\n",
    "* Se divide el string a la mitad y se invierten los resultantes usando `indexado`.\n",
    "* Se imprime el original y el resultado."
   ]
  },
  {
   "cell_type": "code",
   "execution_count": null,
   "metadata": {},
   "outputs": [],
   "source": [
    "palindromo_buhos = \"Acaso hubo buhos acá\"\n",
    "palindromo_buhos_spliteado = palindromo_buhos.split(' ')\n",
    "palindromo_buhos_sin_espacios = ''.join(palindromo_buhos_spliteado)\n",
    "print(palindromo_buhos_sin_espacios)\n",
    "longitud = len(palindromo_buhos_sin_espacios)\n",
    "print(longitud)"
   ]
  },
  {
   "cell_type": "code",
   "execution_count": null,
   "metadata": {},
   "outputs": [],
   "source": [
    "mitad_longitud = int((longitud + 1) / 2)\n",
    "palindromo_0 = palindromo_buhos_sin_espacios[0:mitad_longitud]\n",
    "palindromo_1 = palindromo_buhos_sin_espacios[mitad_longitud::]\n",
    "print(palindromo_0)\n",
    "print(palindromo_1)"
   ]
  },
  {
   "cell_type": "code",
   "execution_count": null,
   "metadata": {},
   "outputs": [],
   "source": [
    "palindromo_0 = palindromo_0[::-1]\n",
    "palindromo_1 = palindromo_1[::-1]\n",
    "palindromo_a_corroborar = palindromo_1 + palindromo_0\n",
    "print(palindromo_buhos_sin_espacios)\n",
    "print(palindromo_a_corroborar)"
   ]
  },
  {
   "cell_type": "markdown",
   "metadata": {},
   "source": [
    "Ahora con *\"Amargor pleno con el programa\"* (de Python)"
   ]
  },
  {
   "cell_type": "markdown",
   "metadata": {},
   "source": [
    "**EJEMPLO 1**: Se desea contar la cantidad de veces que aparece la letra \"o\" en la palabra \"otorrinonaringólogo\", reemplazar la \"o\" por la \"i\", pasar a mayúsculas y leer el resultado en voz alta."
   ]
  },
  {
   "cell_type": "markdown",
   "metadata": {},
   "source": [
    "**RESOLUCIÓN**:\n",
    "* Para contar la frecuencia de la \"o\" se emplea el método `count()` y la función `print()`\n",
    "* Para reemplazar la \"o\" por la \"i\" se usa el método `replace()`\n",
    "* Para pasar a mayúsculas el método `upper()`\n",
    "* Para mostrar por pantalla el resultado, la función `print()`\n",
    "\n",
    "*NOTA*: Las modificaciones que sufre la palabra \"otorrinonaringólogo\" se almacenan en la misma\n",
    "`variable`."
   ]
  },
  {
   "cell_type": "markdown",
   "metadata": {},
   "source": [
    "**EJERCICIO 0**: *(clase)* A partir de un string que contiene las cinco primeras *preposiciones* del español separadas por coma, imprimir viñetas de las mismas ordenadas alfabéticamente, el resultado debería verse como sigue:\n",
    "\n",
    "* preposición0\n",
    "* preposición1\n",
    "* ...\n",
    "* preppsición5\n",
    "\n",
    "*OJO*: Hay que recordar *esa* clase de lengua y *buscar* una herramienta de python que nos permita ordenar palabras. "
   ]
  },
  {
   "cell_type": "markdown",
   "metadata": {},
   "source": [
    "**EJERCICIO 1**: *(clase)* Imprimir en pantalla en mayúscula el fragmento de la canción:\n",
    "\n",
    "> *\"Dos y dos, son cuatro,\n",
    "cuatro y dos, son seis,\n",
    "seis y dos, son ocho,\n",
    "y ocho, dieciseis,\n",
    "y ocho, veinticuatro,\n",
    "y ocho, treinta y dos\"*\n",
    "\n",
    "a partir de las sumas con enteros, por ejemplo, para la primer oración:"
   ]
  },
  {
   "cell_type": "code",
   "execution_count": null,
   "metadata": {},
   "outputs": [],
   "source": [
    "dos = 2\n",
    "suma = dos + dos\n",
    "primera_oracion = str(dos) + ' y ' + str(dos) + ', son ' + str(suma) + ', '\n",
    "print(primera_oracion.upper())"
   ]
  },
  {
   "cell_type": "markdown",
   "metadata": {},
   "source": [
    "**EJERCICIO 2**: *(tarea)* "
   ]
  },
  {
   "cell_type": "code",
   "execution_count": null,
   "metadata": {},
   "outputs": [],
   "source": [
    "int('1')"
   ]
  },
  {
   "cell_type": "markdown",
   "metadata": {},
   "source": [
    "## Bool"
   ]
  },
  {
   "cell_type": "code",
   "execution_count": null,
   "metadata": {},
   "outputs": [],
   "source": [
    "type(2 > 1), type('a' == 1)"
   ]
  },
  {
   "cell_type": "markdown",
   "metadata": {},
   "source": [
    "# Estructuras de datos "
   ]
  }
 ],
 "metadata": {
  "kernelspec": {
   "display_name": "Python 3",
   "language": "python",
   "name": "python3"
  },
  "language_info": {
   "codemirror_mode": {
    "name": "ipython",
    "version": 3
   },
   "file_extension": ".py",
   "mimetype": "text/x-python",
   "name": "python",
   "nbconvert_exporter": "python",
   "pygments_lexer": "ipython3",
   "version": "3.7.3"
  }
 },
 "nbformat": 4,
 "nbformat_minor": 2
}
