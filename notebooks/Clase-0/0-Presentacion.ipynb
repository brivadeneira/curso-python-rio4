{
 "cells": [
  {
   "cell_type": "code",
   "execution_count": null,
   "metadata": {
    "slideshow": {
     "slide_type": "slide"
    }
   },
   "outputs": [],
   "source": [
    "from notebook.services.config import ConfigManager\n",
    "\n",
    "cm_slide = ConfigManager()\n",
    "cm_slide.update(\"livereveal\", {\n",
    "              \"theme\": \"serif\",\n",
    "              \"transition\": \"zoom\",\n",
    "              \"scroll\": True,\n",
    "              \"footer\": \"<h4>Python</h4>\",\n",
    "              \"width\": \"100%\",\n",
    "              \"height\": \"100%\",\n",
    "})"
   ]
  },
  {
   "cell_type": "markdown",
   "metadata": {
    "slideshow": {
     "slide_type": "slide"
    }
   },
   "source": [
    "# Curso de Python 2019\n",
    "\n",
    "![](https://media1.tenor.com/images/b6dd2b1d552a416b09947d45b170959e/tenor.gif?itemid=10975860)\n",
    "\n",
    "[Hello, Hi, Monty Python](https://tenor.com/view/hello-hi-monty-python-silly-good-gif-10975860) de [tenor](https://tenor.com)"
   ]
  },
  {
   "cell_type": "markdown",
   "metadata": {
    "slideshow": {
     "slide_type": "slide"
    }
   },
   "source": [
    "## Romper el hielo\n",
    "\n",
    "* ¿Cómo te llamás?\n",
    "* ¿A qué te dedicás?\n",
    "* ¿Por qué estás acá?\n",
    "* ¿Qué esperás de este curso?"
   ]
  },
  {
   "cell_type": "markdown",
   "metadata": {
    "slideshow": {
     "slide_type": "slide"
    }
   },
   "source": [
    "## Metodología\n",
    "\n",
    "### Semana 1 y 2\n",
    "\n",
    "Cuatro clases de módulo básico\n",
    "\n",
    "* Usos y aplicaciones\n",
    "* Ejemplos\n",
    "* Fundamentos\n",
    "* Ejercicios y tarea"
   ]
  },
  {
   "cell_type": "markdown",
   "metadata": {
    "slideshow": {
     "slide_type": "subslide"
    }
   },
   "source": [
    "**Miércoles 29 de Mayo**\n",
    "\n",
    "![](https://i.imgur.com/1FY5l0j.png)"
   ]
  },
  {
   "cell_type": "markdown",
   "metadata": {
    "slideshow": {
     "slide_type": "subslide"
    }
   },
   "source": [
    "### Semana 3 y 4\n",
    "\n",
    "Clases optativas"
   ]
  },
  {
   "cell_type": "markdown",
   "metadata": {
    "slideshow": {
     "slide_type": "slide"
    }
   },
   "source": [
    "## Breve reseña histórica\n",
    "\n",
    "Python fue creado a finales de los 80's por\n",
    "\n",
    "![](https://upload.wikimedia.org/wikipedia/commons/thumb/6/66/Guido_van_Rossum_OSCON_2006.jpg/130px-Guido_van_Rossum_OSCON_2006.jpg)\n",
    "\n",
    "[Guido Van Rossum](https://es.wikipedia.org/wiki/Python#/media/File:Guido_van_Rossum_OSCON_2006.jpg) de [Doc Searls](https://es.wikipedia.org/wiki/Python#/media/File:Guido_van_Rossum_OSCON_2006.jpg) / [CC by SA 2.0](https://creativecommons.org/licenses/by-sa/2.0/deed.en)\n",
    "\n",
    "en países bajos."
   ]
  },
  {
   "cell_type": "markdown",
   "metadata": {
    "slideshow": {
     "slide_type": "slide"
    }
   },
   "source": [
    "## ¿Por qué python?\n",
    "\n",
    "![](https://i.imgur.com/a2vpNKj.png)\n",
    "\n",
    "\n",
    "* Multipropósito\n",
    "* Fácil de aprender, lenguaje de alto nivel\n",
    "* Fácil de leer, sintaxis *simple, clara y sencilla*\n",
    "\n",
    "¡Pero es un lenguaje de programación de verdad!"
   ]
  },
  {
   "cell_type": "markdown",
   "metadata": {
    "slideshow": {
     "slide_type": "subslide"
    }
   },
   "source": [
    "* Interpretado (flexible, portable)\n",
    "* Multiprataforma\n",
    "* Multiparadigma\n",
    "* Tipado dinámico\n",
    "\n",
    "* Open source\n",
    "* Comunidad\n",
    "* Bibliotecas"
   ]
  },
  {
   "cell_type": "markdown",
   "metadata": {
    "slideshow": {
     "slide_type": "slide"
    }
   },
   "source": [
    "### Python en el mundo\n",
    "\n",
    "Python reportó la mayor tasa de crecimiento en [Stack overflow trends](https://insights.stackoverflow.com/trends?utm_source=so-owned&utm_medium=blog&utm_campaign=trends&utm_content=blog-link&tags=python%2Cjava%2Cphp%2Cruby%2Cperl) en los últimos años:\n",
    "\n",
    "![imagen trends SO](https://i.imgur.com/uQMM8bR.png)"
   ]
  },
  {
   "cell_type": "markdown",
   "metadata": {
    "slideshow": {
     "slide_type": "subslide"
    }
   },
   "source": [
    "Se encuentra en el **primer lugar** del ranking de popularidad de lenguajes de programación [PYPL PopularitY of Programming Language](http://pypl.github.io/PYPL.html) 2019:\n",
    "\n",
    "![](https://i.imgur.com/jwwj0eH.png)"
   ]
  },
  {
   "cell_type": "markdown",
   "metadata": {
    "slideshow": {
     "slide_type": "subslide"
    }
   },
   "source": [
    "Y en el **top 3** del ranking por lenguaje en [GitHub](https://github.com/):\n",
    "\n",
    "![](https://i.imgur.com/29DiVIR.png)\n",
    "\n",
    "Fuente: [GitHut A small place to discover languages in GitHub](https://githut.info/)"
   ]
  },
  {
   "cell_type": "markdown",
   "metadata": {
    "slideshow": {
     "slide_type": "slide"
    }
   },
   "source": [
    "### ¿Quién usa Python?\n",
    "\n",
    "![](https://i.imgur.com/Yq0yisG.png)"
   ]
  },
  {
   "cell_type": "markdown",
   "metadata": {},
   "source": [
    "#### ¿Para qué lo usan?\n",
    "\n",
    "* Inteligencia artificial ([Keras](https://keras.io/), [Tensorflow](https://www.tensorflow.org/?hl=es)) \n",
    "* Bigdata ([Pydoop](https://crs4.github.io/pydoop/), [Dask](https://dask.org/))\n",
    "* Data Science ([Pandas](https://pandas.pydata.org/), [Numpy](https://www.numpy.org/), [Matplotlib](https://matplotlib.org/))\n",
    "* Desarrollo web ([Django](https://www.djangoproject.com/), [Flask](http://flask.pocoo.org/))"
   ]
  }
 ],
 "metadata": {
  "kernelspec": {
   "display_name": "Python 3",
   "language": "python",
   "name": "python3"
  },
  "language_info": {
   "codemirror_mode": {
    "name": "ipython",
    "version": 3
   },
   "file_extension": ".py",
   "mimetype": "text/x-python",
   "name": "python",
   "nbconvert_exporter": "python",
   "pygments_lexer": "ipython3",
   "version": "3.7.3"
  }
 },
 "nbformat": 4,
 "nbformat_minor": 2
}
