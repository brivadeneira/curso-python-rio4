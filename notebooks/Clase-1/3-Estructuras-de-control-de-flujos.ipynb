{
 "cells": [
  {
   "cell_type": "markdown",
   "metadata": {},
   "source": [
    "# Estructuras de control de flujo"
   ]
  },
  {
   "cell_type": "markdown",
   "metadata": {},
   "source": [
    "## if elif y else"
   ]
  },
  {
   "cell_type": "code",
   "execution_count": null,
   "metadata": {},
   "outputs": [],
   "source": []
  },
  {
   "cell_type": "markdown",
   "metadata": {},
   "source": [
    "## for"
   ]
  },
  {
   "cell_type": "markdown",
   "metadata": {},
   "source": [
    "Cuando se requiera efectuar una __operación__ para cada uno de los elementos de una variable, o un __número conocido__ de veces (o al menos factible de averiguar), se utiliza la sentencia __for__, de la siguiente manera:\n",
    "\n",
    "```python\n",
    "\n",
    "for objeto_mutable in elemento_a_recorrer:\n",
    "    instrucción\n",
    "```\n",
    "\n"
   ]
  },
  {
   "cell_type": "markdown",
   "metadata": {},
   "source": [
    "![](https://cdn.pixabay.com/photo/2012/06/16/20/52/lechner-50119_960_720.jpg)"
   ]
  },
  {
   "cell_type": "markdown",
   "metadata": {},
   "source": [
    "__Ejemplo &__: dadas las siguientes variables, imprimir sus elementos uno a uno, y su tipo."
   ]
  },
  {
   "cell_type": "code",
   "execution_count": null,
   "metadata": {},
   "outputs": [],
   "source": [
    "un_string = 'Un_simple_sting'\n",
    "una_lista = ['una','simple','lista']\n",
    "una_tupla = (1,['s','i','m','p','l','e'],'tupla')"
   ]
  },
  {
   "cell_type": "code",
   "execution_count": null,
   "metadata": {},
   "outputs": [],
   "source": [
    "for caracter in un_string:\n",
    "    print(caracter, type(caracter))"
   ]
  },
  {
   "cell_type": "code",
   "execution_count": null,
   "metadata": {},
   "outputs": [],
   "source": [
    "for string in una_lista:\n",
    "    print(string, type(string))"
   ]
  },
  {
   "cell_type": "code",
   "execution_count": null,
   "metadata": {},
   "outputs": [],
   "source": [
    "for elemento in una_tupla:\n",
    "    print(elemento, type(elemento))"
   ]
  },
  {
   "cell_type": "markdown",
   "metadata": {},
   "source": [
    "Cuando la sentencia no se ejecuta sobre todos los elementos de una variable, se debe explicitar el número de iteraciones:\n",
    "    \n",
    "```python\n",
    "\n",
    "for objeto_mutable in range(inicio_del_rango, final del rango, paso del rango):\n",
    "    instrucción\n",
    "```"
   ]
  },
  {
   "cell_type": "markdown",
   "metadata": {},
   "source": [
    "__Ejemplo &__: imprimir solamente los elementos correspondientes a la palabra simple de la variable __un_string__"
   ]
  },
  {
   "cell_type": "code",
   "execution_count": null,
   "metadata": {},
   "outputs": [],
   "source": [
    "for i in range(3,9):\n",
    "    print(un_string[i])"
   ]
  },
  {
   "cell_type": "markdown",
   "metadata": {},
   "source": [
    "__Ejemplo &__: crear una lista vacía y llenarla con los números del 0 al 41"
   ]
  },
  {
   "cell_type": "code",
   "execution_count": null,
   "metadata": {},
   "outputs": [],
   "source": [
    "lista_a_llenar = []\n",
    "for entero in range (42):\n",
    "    lista_a_llenar.append(entero)\n",
    "\n",
    "print(lista_a_llenar)"
   ]
  },
  {
   "cell_type": "markdown",
   "metadata": {},
   "source": [
    "__Ejemplo &__: de la lista creada anteriormente remover todos los números impares"
   ]
  },
  {
   "cell_type": "code",
   "execution_count": null,
   "metadata": {},
   "outputs": [],
   "source": [
    "for numero in range(1, 41, 2):\n",
    "    print(numero)\n",
    "    lista_a_llenar.remove(numero)\n",
    "print(lista_a_llenar)"
   ]
  },
  {
   "cell_type": "markdown",
   "metadata": {},
   "source": [
    "__Ejercicio &__: Dado el texto que sigue verificar que las mayúsculas y minúsculas estén usadas adecuadamente, caso contrario, corregirlo."
   ]
  },
  {
   "cell_type": "code",
   "execution_count": null,
   "metadata": {},
   "outputs": [],
   "source": [
    "fragmento_de_texto = 'Estaba tumbado boca abajo, Sobre una capa de agujas de pino de color castaño, Con la barbilla apoyada en los brazos cruzados, mientras el viento, en lo alto, Zumbaba entre las copas. el flanco de la montaña hacía un suave declive por aquella parte; pero, más abajo, se convertía en una pendiente escarpada, De modo que desde donde se hallaba tumbado podía ver la cinta oscura, Bien embreada, de la carretera, zigzagueando en torno al puerto. había un torrente que corría junto a la carretera y, más abajo, A orillas del torrente, se veía un aserradero y la blanca cabellera de la cascada que se derramaba de la represa, Cabrilleando a la luz del sol.' "
   ]
  },
  {
   "cell_type": "code",
   "execution_count": null,
   "metadata": {},
   "outputs": [],
   "source": [
    "print(fragmento_de_texto)"
   ]
  },
  {
   "cell_type": "markdown",
   "metadata": {},
   "source": [
    "## while"
   ]
  },
  {
   "cell_type": "markdown",
   "metadata": {},
   "source": [
    "Cuando sea necesario ejecutar una acción hasta el momento en que __se cumpla una condición__, se utiliza la estructura while:  \n",
    "\n",
    "```python\n",
    "\n",
    "while condición que debe cumplirse:\n",
    "  repetir estas operaciones hasta que se cumpla\n",
    "\n",
    "```"
   ]
  },
  {
   "cell_type": "markdown",
   "metadata": {},
   "source": [
    "![](https://encrypted-tbn0.gstatic.com/images?q=tbn:ANd9GcR4cieDxg6tiXlVLrCJc_CMmdTnXapWtE9BkKsqKRtbK7XMMsza4Q)"
   ]
  },
  {
   "cell_type": "markdown",
   "metadata": {},
   "source": [
    "__Ejemplo &__:  Pedir por teclado un número y sumar cada nueva entrada al anterior. Finalizar el ciclo cuando la suma ingresada sea mayor a 41."
   ]
  },
  {
   "cell_type": "code",
   "execution_count": null,
   "metadata": {},
   "outputs": [],
   "source": [
    "numero = 0\n",
    "while numero < 41:\n",
    "    nuevo_numero = input('Ingrese un nuevo número:  ')\n",
    "    numero = numero + float(nuevo_numero)\n",
    "print(numero)"
   ]
  },
  {
   "cell_type": "markdown",
   "metadata": {},
   "source": [
    "__Ejemplo &__: Pedir por teclado una palabra y añadirla a una lista creada previamente, repetir indefinidamente la acción hasta que el tamaño de la palabra ingresada sea de exactamente siete caracteres."
   ]
  },
  {
   "cell_type": "code",
   "execution_count": null,
   "metadata": {},
   "outputs": [],
   "source": [
    "lista_con_palabras=[]\n",
    "largo_palabra = 0\n",
    "while largo_palabra != 7:\n",
    "    nueva_palabra = input('Ingrese una palabra')\n",
    "    lista_con_palabras.append(nueva_palabra)\n",
    "    largo_palabra = len(str(nueva_palabra))\n",
    "print(largo_palabra)\n",
    "lista_con_palabras"
   ]
  },
  {
   "cell_type": "markdown",
   "metadata": {},
   "source": [
    "__Ejercicio &__: Implementar un generador de números aleatorios, entre 0 y 2, el mismo debe producir enteros y cargarlos en la lista. La ejecución debe interrumpirse si cualquier número aparece en la lista mas de 2 veces. "
   ]
  },
  {
   "cell_type": "code",
   "execution_count": null,
   "metadata": {},
   "outputs": [],
   "source": [
    "import random\n",
    "\n",
    "lista_de_enteros = []\n",
    "while (lista_de_enteros.count(0) < 2 and lista_de_enteros.count(1) < 2 and lista_de_enteros.count(2) < 2):\n",
    "    numero_aleatorio = random.randrange(3)\n",
    "    print(numero_aleatorio)\n",
    "    lista_de_enteros.append(numero_aleatorio)\n",
    "\n",
    "print(lista_de_enteros)\n",
    "\n",
    "\n"
   ]
  },
  {
   "cell_type": "markdown",
   "metadata": {},
   "source": [
    "__Ejercicio &__: Generar una lista con la secuencia de Fibonacci hasta superar o alcanzar un número que el usuario determine por teclado.\n",
    "  \n",
    "  \n",
    "__NOTA &__: en una secuencia de este tipo cada elemento en la suma de los dos anteriores: 1, 1, 2, 3, 5, 8, 13, 21, 34, ..."
   ]
  },
  {
   "cell_type": "code",
   "execution_count": null,
   "metadata": {},
   "outputs": [],
   "source": [
    "sucesion = [1,1]\n",
    "maximo = input('Ingrese el límite de la secuencia:  ')\n",
    "while sucesion[-1] < int(maximo):\n",
    "    sucesion.append(sucesion[-1] + sucesion[-2])"
   ]
  },
  {
   "cell_type": "markdown",
   "metadata": {},
   "source": [
    "__Ejercicio &__: Crear un temporizador que dado una cantidad en minutos muestre un mensaje por pantalla notificando que ese tiempo se alcanzó.\n",
    "\n",
    "__NOTA &__: Hay bibliotecas adecuadas para su uso con variables temporales."
   ]
  },
  {
   "cell_type": "markdown",
   "metadata": {},
   "source": [
    "## with"
   ]
  },
  {
   "cell_type": "code",
   "execution_count": null,
   "metadata": {},
   "outputs": [],
   "source": []
  },
  {
   "cell_type": "code",
   "execution_count": null,
   "metadata": {},
   "outputs": [],
   "source": []
  },
  {
   "cell_type": "code",
   "execution_count": null,
   "metadata": {},
   "outputs": [],
   "source": []
  },
  {
   "cell_type": "markdown",
   "metadata": {},
   "source": [
    "## try"
   ]
  }
 ],
 "metadata": {
  "kernelspec": {
   "display_name": "Python 3",
   "language": "python",
   "name": "python3"
  },
  "language_info": {
   "codemirror_mode": {
    "name": "ipython",
    "version": 3
   },
   "file_extension": ".py",
   "mimetype": "text/x-python",
   "name": "python",
   "nbconvert_exporter": "python",
   "pygments_lexer": "ipython3",
   "version": "3.7.1"
  }
 },
 "nbformat": 4,
 "nbformat_minor": 2
}
