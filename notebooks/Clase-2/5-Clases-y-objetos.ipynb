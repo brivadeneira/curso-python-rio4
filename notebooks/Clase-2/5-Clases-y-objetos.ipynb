{
 "cells": [
  {
   "cell_type": "markdown",
   "metadata": {},
   "source": [
    "# Clases y objetos"
   ]
  },
  {
   "cell_type": "markdown",
   "metadata": {},
   "source": [
    "## Programación Orientada a Objetos"
   ]
  },
  {
   "cell_type": "markdown",
   "metadata": {},
   "source": [
    "Es una paradigma de programación que utiliza ___objetos___ en sus interacciones. Un objeto es una unidad dentro de un programa que consta de un estado y de un comportamiento.\n",
    "\n",
    "Algunas de las ventajas que aporta este paradigma son:\n",
    "\n",
    "* Fomenta la reutilización y extensión del código.\n",
    "* Permite crear sistemas más complejos.\n",
    "* Relacionar el sistema al mundo real.\n",
    "* Facilita la creación de programas visuales.\n",
    "* Agiliza el desarrollo de software\n",
    "* Facilita el trabajo en equipo\n",
    "* Facilita el mantenimiento del software"
   ]
  },
  {
   "cell_type": "markdown",
   "metadata": {},
   "source": [
    "### Estado, comportamiento e identidad"
   ]
  },
  {
   "cell_type": "markdown",
   "metadata": {},
   "source": [
    "![](https://github.com/hburi/Mis_imagenes/blob/master/Estado_comportamiento_identidad.png?raw=true)"
   ]
  },
  {
   "cell_type": "markdown",
   "metadata": {},
   "source": [
    "El __estado__ de un objeto está definido por sus __atributos__, a los que se habrán asignado unos valores concretos. "
   ]
  },
  {
   "cell_type": "markdown",
   "metadata": {},
   "source": [
    "![](https://github.com/hburi/Mis_imagenes/blob/master/Estado.png?raw=true)"
   ]
  },
  {
   "cell_type": "markdown",
   "metadata": {},
   "source": [
    "El __comportamiento__ de un objeto está definido por los métodos a los que sabe responder un objeto, es decir, a las operaciones que se pueden realizar con el."
   ]
  },
  {
   "cell_type": "markdown",
   "metadata": {},
   "source": [
    "![](https://github.com/hburi/Mis_imagenes/blob/master/Comportamiento.png?raw=true)"
   ]
  },
  {
   "cell_type": "markdown",
   "metadata": {},
   "source": [
    "La __identidad__ de un objeto es una propiedad del mismo que lo diferencia del resto."
   ]
  },
  {
   "cell_type": "markdown",
   "metadata": {},
   "source": [
    "![](https://github.com/hburi/Mis_imagenes/blob/master/Identidad.png?raw=true)"
   ]
  },
  {
   "cell_type": "markdown",
   "metadata": {},
   "source": [
    "Los métodos (comportamientos) y atributos (estado) están estrechamente relacionados con el concepto de clase. _Una clase hace uso de métodos para poder tratar los atributos con los que cuenta_."
   ]
  },
  {
   "cell_type": "markdown",
   "metadata": {},
   "source": [
    "## Clases"
   ]
  },
  {
   "cell_type": "markdown",
   "metadata": {},
   "source": [
    "Una clase es la __definición__ de las propiedades y comportamiento de un __tipo concreto de objeto__."
   ]
  },
  {
   "cell_type": "markdown",
   "metadata": {},
   "source": [
    "![](https://github.com/hburi/Mis_imagenes/blob/master/clase.png?raw=true)"
   ]
  },
  {
   "cell_type": "markdown",
   "metadata": {},
   "source": [
    "La __instanciación__ de una clase es la creación de un objeto concreto a partir de las definiciones de una clase."
   ]
  },
  {
   "cell_type": "markdown",
   "metadata": {},
   "source": [
    "![](https://github.com/hburi/Mis_imagenes/blob/master/instanciaci%C3%B3n.png?raw=true)"
   ]
  },
  {
   "cell_type": "markdown",
   "metadata": {},
   "source": [
    "Los objetos interactúan entre sí mediante los métodos que poseen o a los que son sensibles."
   ]
  },
  {
   "cell_type": "markdown",
   "metadata": {},
   "source": [
    "![](https://github.com/hburi/Mis_imagenes/blob/master/cambio.gif?raw=true)"
   ]
  },
  {
   "cell_type": "markdown",
   "metadata": {},
   "source": [
    "![](https://github.com/hburi/Mis_imagenes/blob/master/cabeza.gif?raw=true)"
   ]
  },
  {
   "cell_type": "markdown",
   "metadata": {},
   "source": [
    "## Algunas características de la programación orientada a objetos"
   ]
  },
  {
   "cell_type": "markdown",
   "metadata": {},
   "source": [
    "* __Abstracción__: Consiste en __enfatizar el comportamiento__ de un objeto, dejando de lado su funcionamiento interno"
   ]
  },
  {
   "cell_type": "markdown",
   "metadata": {},
   "source": [
    "![](https://github.com/hburi/Mis_imagenes/blob/master/abstracci%C3%B3n.gif?raw=true)"
   ]
  },
  {
   "cell_type": "markdown",
   "metadata": {},
   "source": [
    "* __Modularidad__: A grandes rasgos, consiste en separar un código en segmentos menores, o módulos, a fin de simplificar el desarrollo del programa."
   ]
  },
  {
   "cell_type": "code",
   "execution_count": null,
   "metadata": {},
   "outputs": [],
   "source": []
  }
 ],
 "metadata": {
  "kernelspec": {
   "display_name": "Python 3",
   "language": "python",
   "name": "python3"
  },
  "language_info": {
   "codemirror_mode": {
    "name": "ipython",
    "version": 3
   },
   "file_extension": ".py",
   "mimetype": "text/x-python",
   "name": "python",
   "nbconvert_exporter": "python",
   "pygments_lexer": "ipython3",
   "version": "3.7.1"
  }
 },
 "nbformat": 4,
 "nbformat_minor": 2
}
